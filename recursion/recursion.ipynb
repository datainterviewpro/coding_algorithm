{
 "cells": [
  {
   "cell_type": "markdown",
   "id": "7e271e29",
   "metadata": {},
   "source": [
    "### fast power"
   ]
  },
  {
   "cell_type": "code",
   "execution_count": 1,
   "id": "b571f670",
   "metadata": {},
   "outputs": [],
   "source": [
    "# recursion\n",
    "\n",
    "def power(x, n):\n",
    "    if n == 0:\n",
    "        return 1\n",
    "    \n",
    "    if n % 2 == 0:\n",
    "        tmp = power(x, n // 2)\n",
    "        return tmp * tmp\n",
    "    else:\n",
    "        tmp = power(x, n // 2)\n",
    "        return tmp * tmp * x\n",
    "\n",
    "# non-recursion\n",
    "def power(x, n):\n",
    "    ans = 1\n",
    "    base = x\n",
    "    while n > 0:\n",
    "        if n % 2 == 1:\n",
    "            ans *= base\n",
    "        base *= base\n",
    "        n = n // 2\n",
    "    return ans\n"
   ]
  },
  {
   "cell_type": "markdown",
   "id": "d102faaa",
   "metadata": {},
   "source": [
    "### greatest common divisor"
   ]
  },
  {
   "cell_type": "code",
   "execution_count": null,
   "id": "f14700a1",
   "metadata": {},
   "outputs": [],
   "source": [
    "def gcd(big, small):\n",
    "    if small != 0:\n",
    "        return gcd(small, big % small)\n",
    "    else:\n",
    "        return big\n"
   ]
  },
  {
   "cell_type": "markdown",
   "id": "b88b7ab5",
   "metadata": {},
   "source": [
    "### three step reverse\n",
    "\n",
    "https://www.lintcode.com/problem/recover-rotated-sorted-array/description\n",
    "\n",
    "https://www.lintcode.com/problem/rotate-string/description"
   ]
  },
  {
   "cell_type": "code",
   "execution_count": null,
   "id": "4c5e8bbd",
   "metadata": {},
   "outputs": [],
   "source": [
    "\n",
    "class Solution:\n",
    "    \"\"\"\n",
    "        @param nums: An integer array\n",
    "        @return: nothing\n",
    "        \"\"\"\n",
    "    def recoverRotatedSortedArray(self, nums):\n",
    "        # find peak\n",
    "        n = len(nums)\n",
    "        for i in range(n-1):\n",
    "            if nums[i] > nums[i+1]:\n",
    "                self.reverse(nums, 0, i)\n",
    "                self.reverse(nums, i+1, n-1)\n",
    "                self.reverse(nums, 0, n-1)\n",
    "    \n",
    "    def reverse(self, nums, i, j):\n",
    "        while i < j:\n",
    "            nums[i], nums[j] = nums[j], nums[i]\n",
    "            i += 1\n",
    "            j -=1\n",
    "\n",
    "\n",
    "class Solution:\n",
    "    \"\"\"\n",
    "        @param str: An array of char\n",
    "        @param offset: An integer\n",
    "        @return: nothing\n",
    "        \"\"\"\n",
    "    def rotateString(self, s, offset):\n",
    "        # write your code here\n",
    "        n = len(s)\n",
    "        if offset == 0 or n == 0:\n",
    "            return\n",
    "        \n",
    "        if offset > n:\n",
    "            offset = offset % n\n",
    "        \n",
    "        idx = n - 1 - offset\n",
    "        self.reverse(s, 0, idx)\n",
    "        self.reverse(s, idx + 1, n - 1)\n",
    "        self.reverse(s, 0, n-1)\n",
    "\n",
    "    def reverse(self, s, left, right):\n",
    "        while left < right:\n",
    "            s[left], s[right] = s[right], s[left]\n",
    "            left += 1\n",
    "            right -= 1\n"
   ]
  }
 ],
 "metadata": {
  "kernelspec": {
   "display_name": "Python 3 (ipykernel)",
   "language": "python",
   "name": "python3"
  },
  "language_info": {
   "codemirror_mode": {
    "name": "ipython",
    "version": 3
   },
   "file_extension": ".py",
   "mimetype": "text/x-python",
   "name": "python",
   "nbconvert_exporter": "python",
   "pygments_lexer": "ipython3",
   "version": "3.9.6"
  }
 },
 "nbformat": 4,
 "nbformat_minor": 5
}
