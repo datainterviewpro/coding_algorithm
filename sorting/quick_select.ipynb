{
 "cells": [
  {
   "cell_type": "code",
   "execution_count": null,
   "id": "a123921e",
   "metadata": {},
   "outputs": [],
   "source": [
    "class Solution:\n",
    "    \"\"\"\n",
    "    @param n: An integer\n",
    "    @param nums: An array\n",
    "    @return: the Kth largest element\n",
    "    \"\"\"\n",
    "    def kthLargestElement(self, k, nums):\n",
    "        # write your code here\n",
    "        return self.quick_select(nums, k, 0, len(nums) - 1)\n",
    "\n",
    "    def quick_select(self, nums, k, start, end):\n",
    "        if start == end:\n",
    "            return nums[start]\n",
    "        left, right = start, end\n",
    "        pivot = nums[(left + right) // 2]\n",
    "\n",
    "        left, right = self.partition(nums, pivot, start, end)\n",
    "        if start + k - 1 <= right:\n",
    "            return self.quick_select(nums, k, start, right)\n",
    "        if start + k - 1 >= left:\n",
    "            return self.quick_select(nums, k - (left - start), left, end)\n",
    "        return nums[right + 1]\n",
    "\n",
    "    def partition(self, nums, pivot, start, end):\n",
    "        left, right = start, end\n",
    "\n",
    "        while left <= right:\n",
    "            while left <= right and nums[left] > pivot:\n",
    "                left += 1\n",
    "            while left <= right and nums[right] < pivot:\n",
    "                right -= 1\n",
    "            if left <= right:\n",
    "                nums[left], nums[right] = nums[right], nums[left]\n",
    "                left += 1\n",
    "                right -= 1\n",
    "\n",
    "        # nums[start], nums[right] = nums[right], nums[start]\n",
    "        return left, right\n"
   ]
  }
 ],
 "metadata": {
  "kernelspec": {
   "display_name": "Python 3 (ipykernel)",
   "language": "python",
   "name": "python3"
  },
  "language_info": {
   "codemirror_mode": {
    "name": "ipython",
    "version": 3
   },
   "file_extension": ".py",
   "mimetype": "text/x-python",
   "name": "python",
   "nbconvert_exporter": "python",
   "pygments_lexer": "ipython3",
   "version": "3.9.6"
  }
 },
 "nbformat": 4,
 "nbformat_minor": 5
}
