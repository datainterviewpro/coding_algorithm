{
 "cells": [
  {
   "cell_type": "markdown",
   "id": "3945b589",
   "metadata": {},
   "source": [
    "## binary search template"
   ]
  },
  {
   "cell_type": "code",
   "execution_count": 2,
   "id": "cb060127",
   "metadata": {},
   "outputs": [],
   "source": [
    "class Solution:\n",
    "    # @param nums: The integer array\n",
    "    # @param target: Target number to find\n",
    "    # @return the first position of target in nums, position start from 0\n",
    "    def binarySearch(self, nums, target):\n",
    "        if len(nums) == 0:\n",
    "            return -1\n",
    "        \n",
    "        start, end = 0, len(nums) - 1\n",
    "        # use start + 1 < end instead of start < end is to avoid dead end\n",
    "        # typically, first position of target - no dead end\n",
    "        # but last position of target - may have dead end, eg. nums=[1，1] target = 1\n",
    "        # so let's use start + 1 < end\n",
    "        while start + 1 < end:\n",
    "            # no integer overflow in python, so it's okay to use // 2 \n",
    "            # but in java & C++ , it's better to be mid = start + (end - start) / 2\n",
    "            # when start = 2^31 - 1, end = 2^31 - 1 the sum will lead to overflow\n",
    "            mid = (start + end) // 2\n",
    "            \n",
    "            # > , =, < need to decide individually, then check if = could be consolidated with other conditions\n",
    "            if nums[mid] < target:\n",
    "                # here start = mid + 1 is correct\n",
    "                # but to make to simple, we can keep it as start = mid, it won't influence time complexity\n",
    "                # benefit of not +1 is if you write + to - accidentally, you are wrong\n",
    "                start = mid\n",
    "            elif nums[mid] == target:\n",
    "                end = mid\n",
    "            else:\n",
    "                # here end = mid - 1 is correct\n",
    "                # but to make to simple, we can keep it as end = mid, it won't influence time complexity\n",
    "                # benefit of not -1 is if you write - to + accidentally, you are wrong\n",
    "                end = mid\n",
    "    \n",
    "        # when the while loop ends, the condition is start + 1 < end\n",
    "        # now，start and end is adjacent, eg. 1 and 2, 3 and 4\n",
    "        # so we need to decide which one is what we want\n",
    "        # if the requirement is to first position of target, then we check start, then end\n",
    "        if nums[start] == target:\n",
    "            return start\n",
    "        if nums[end] == target:\n",
    "            return end\n",
    "        return -1\n"
   ]
  },
  {
   "cell_type": "markdown",
   "id": "fe365b0f",
   "metadata": {},
   "source": [
    "### SQRT\n",
    "\n",
    "https://www.lintcode.com/problem/141/\n",
    "\n",
    "https://www.lintcode.com/problem/586/"
   ]
  },
  {
   "cell_type": "code",
   "execution_count": null,
   "id": "a0ef5180",
   "metadata": {},
   "outputs": [],
   "source": [
    "class Solution:\n",
    "    \"\"\"\n",
    "    @param x: An integer\n",
    "    @return: The sqrt of x\n",
    "    \"\"\"\n",
    "    def sqrt(self, x):\n",
    "        # write your code here\n",
    "        left, right = 0, x\n",
    "        while left + 1 < right:\n",
    "            mid = left + (right - left) // 2\n",
    "            if mid >= x // mid:\n",
    "                right = mid\n",
    "            else:\n",
    "                left = mid\n",
    "      \n",
    "        if right * right  > x:\n",
    "            return left\n",
    "        return right"
   ]
  },
  {
   "cell_type": "code",
   "execution_count": null,
   "id": "a8f3eb02",
   "metadata": {},
   "outputs": [],
   "source": [
    "class Solution:\n",
    "    \"\"\"\n",
    "    @param x: a double\n",
    "    @return: the square root of x\n",
    "    \"\"\"\n",
    "    def sqrt(self, x):\n",
    "        # write your code here\n",
    "        left, right = 0, x\n",
    "        if x < 1:\n",
    "            right = 1\n",
    "        while left + 1e-10 < right:\n",
    "            mid = left + (right - left) / 2\n",
    "            if mid * mid >= x:\n",
    "                right = mid\n",
    "            else:\n",
    "                left = mid\n",
    "                \n",
    "        if right * right > x:\n",
    "            return left\n",
    "        return right"
   ]
  },
  {
   "cell_type": "markdown",
   "id": "9a67f553",
   "metadata": {},
   "source": [
    "## search insert position\n",
    "\n",
    "https://leetcode.com/problems/search-insert-position/"
   ]
  },
  {
   "cell_type": "code",
   "execution_count": 4,
   "id": "76351a13",
   "metadata": {},
   "outputs": [],
   "source": [
    "class Solution(object):\n",
    "    def searchInsert(self, nums, target):\n",
    "        \"\"\"\n",
    "        :type nums: List[int]\n",
    "        :type target: int\n",
    "        :rtype: int\n",
    "        \"\"\"\n",
    "        if not nums: return 0\n",
    "        \n",
    "        left, right = 0, len(nums) - 1 \n",
    "        while left + 1 < right:\n",
    "            mid = left + (right - left) // 2\n",
    "            if nums[mid] >= target:\n",
    "                right = mid\n",
    "            else:\n",
    "                left = mid \n",
    "                \n",
    "        if target > nums[right]:\n",
    "            return right + 1 \n",
    "        if target <= nums[left]:\n",
    "            return left \n",
    "        return right"
   ]
  },
  {
   "cell_type": "markdown",
   "id": "22de1e26",
   "metadata": {},
   "source": [
    "### first position of target\n",
    "\n",
    "https://www.lintcode.com/problem/14/description"
   ]
  },
  {
   "cell_type": "code",
   "execution_count": null,
   "id": "f86d6dbf",
   "metadata": {},
   "outputs": [],
   "source": [
    "class Solution:\n",
    "    \"\"\"\n",
    "    @param nums: The integer array.\n",
    "    @param target: Target to find.\n",
    "    @return: The first position of target. Position starts from 0.\n",
    "    \"\"\"\n",
    "    def binarySearch(self, nums, target):\n",
    "        # write your code here\n",
    "        left = 0\n",
    "        right = len(nums) - 1\n",
    "        while left + 1 < right:\n",
    "            mid = left + (right - left) // 2\n",
    "            if nums[mid] >= target:\n",
    "                right = mid\n",
    "            else:\n",
    "                left = mid + 1\n",
    "        \n",
    "        if nums[left] == target:\n",
    "            return left\n",
    "        if nums[right] == target:\n",
    "            return right\n",
    "        return -1\n",
    "        \n",
    "        \n"
   ]
  }
 ],
 "metadata": {
  "kernelspec": {
   "display_name": "Python 3 (ipykernel)",
   "language": "python",
   "name": "python3"
  },
  "language_info": {
   "codemirror_mode": {
    "name": "ipython",
    "version": 3
   },
   "file_extension": ".py",
   "mimetype": "text/x-python",
   "name": "python",
   "nbconvert_exporter": "python",
   "pygments_lexer": "ipython3",
   "version": "3.9.6"
  }
 },
 "nbformat": 4,
 "nbformat_minor": 5
}
