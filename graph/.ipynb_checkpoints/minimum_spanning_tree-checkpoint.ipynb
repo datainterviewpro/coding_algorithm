{
 "cells": [
  {
   "cell_type": "code",
   "execution_count": null,
   "id": "6f087136",
   "metadata": {},
   "outputs": [],
   "source": [
    "# question3  find the minimum spanning tree within an undirected graph G\n",
    "# http://www.geeksforgeeks.org/greedy-algorithms-set-2-kruskals-minimum-spanning-tree-mst/\n",
    "\n",
    "def sort_list(G): # covert graph into a sorted list\n",
    "    list0 = []\n",
    "    for i in G:\n",
    "        for j in G[i]:\n",
    "            list0.append((i,j[0],j[1])) \n",
    "\n",
    "    list0 = sorted(list0,key=lambda item:item[2])\n",
    "    # sort list based on weight\n",
    "    return list0\n",
    "\n",
    "def find_prt(parent,i): # find the parent node of a node\n",
    "    if parent[i] == i:\n",
    "        return i\n",
    "    return find_prt(parent,parent[i])\n",
    "\n",
    "def update(parent,rank,x,y): # update parent and rank\n",
    "    if rank[x] < rank[y]:   \n",
    "        parent[x] = parent[y]\n",
    "    elif rank[x] > rank[y]:\n",
    "        parent[y] = parent[x]\n",
    "    else:\n",
    "        parent[y] = parent[x]\n",
    "        # x and y have same rank, then x's rank add 1 \n",
    "        rank[x] += 1    \n",
    "        \n",
    "def question3(G): # apply Kruskal's MST Algorithm\n",
    "    list_sort = sort_list(G) \n",
    "    result = dict() ; parent = dict() ; rank = dict()\n",
    "    i = 0 ; e = 0\n",
    "    \n",
    "    for node in G:\n",
    "        parent[node] = node \n",
    "        # initial parent is a dictionary whose value is the same as keys\n",
    "        rank[node] = 0\n",
    "        # initial rank is a dictionary whose value is 0 for all keys\n",
    "        # root has highest rank\n",
    "        \n",
    "    while e < len(parent) - 1: # e is number of edges\n",
    "        u,v,w = list_sort[i]\n",
    "        i = i +1  # loop through the sorted list\n",
    "        x = find_prt(parent,u)\n",
    "        y = find_prt(parent,v)\n",
    "        \n",
    "        if x != y: # x != y means no cycle has formed\n",
    "            e = e + 1\n",
    "            result[u] = [(v,w)] \n",
    "            update(parent,rank,x,y)\n",
    "    return result\n",
    "\n",
    "G={}\n",
    "print question3(G) # {}\n",
    "G = {'A': [('B', 2)],'B': [('A', 2), ('C', 5)], 'C': [('B', 5)]}\n",
    "print question3(G)  # {'A': [('B', 2)], 'C': [('B', 5)]}\n",
    "G = {'A': [('B', 2)],'B': [('A', 2), ('C', 1)], 'C': [('B', 1)]}\n",
    "print question3(G)  # {'A': [('B', 2)], 'C': [('B', 1)]}\n",
    "G = {'0': [('1', 10),('2',6),('3',5)],'1': [('0', 10),('3', 15)], \\\n",
    "     '2': [('3', 4),('0',6)], '3':[('0', 5),('1',15)]}\n",
    "print question3(G)  # {'1': [('0', 10)], '0': [('3', 5)], '2': [('3', 4)]}"
   ]
  },
  {
   "cell_type": "markdown",
   "id": "3e493419",
   "metadata": {},
   "source": [
    "I applied Kruskal’s Minimum Spanning Tree (MST) Algorithm in this question. The steps to find the MST using Kruskal’s algorithm is as follows: 1. Sort all the edges in non-decreasing order of their weight. 2. Pick the smallest edge. Check if it forms a cycle with the spanning tree formed so far. If cycle is not formed, include this edge. Else, discard it. 3. Repeat step#2 until there are (V-1) edges in the spanning tree. For step1, I converted the original graph into a list, and sorted the list based on weights. We need list here because the input graph cannot be sorted since it is a dictionary. In order to check where there is a cycle with the spanning tree formed so far, I created two dictionaries (parent and rank), and used two functions (find_prt and update). I choose dictionary as the type for parent and rank because for each node, we need the value of it parent and rank, and the order do not matter. It's easy to update the value of certain key of a dictionary. If there is no cycle after connecting node a and b, then a and b should not have the same root. I updated both parent and rank each time when there is a new node connected to the spinning tree.\n",
    "\n",
    "\n",
    "The time complexity of this algorithm is O(ElogE) or O(ElogV), where E is the number of edges and V is the number of vertex. Sorting of edges takes O(ELogE) time. After sorting, we iterate through all edges and apply find-union algorithm. The find and union operations can take at most O(LogV) time. So overall complexity is O(ELogE) + (ELogV) time. Because E is at most V^2 and each isolated vertex is a separate component of the minimum spanning forest. If we ignore isolated vertices we obtain V ≤ 2E, so log V is also O(log E). Thus, the overall complexity is O(ElogE) or O(ElogV). "
   ]
  }
 ],
 "metadata": {
  "kernelspec": {
   "display_name": "Python 3 (ipykernel)",
   "language": "python",
   "name": "python3"
  },
  "language_info": {
   "codemirror_mode": {
    "name": "ipython",
    "version": 3
   },
   "file_extension": ".py",
   "mimetype": "text/x-python",
   "name": "python",
   "nbconvert_exporter": "python",
   "pygments_lexer": "ipython3",
   "version": "3.9.6"
  }
 },
 "nbformat": 4,
 "nbformat_minor": 5
}
