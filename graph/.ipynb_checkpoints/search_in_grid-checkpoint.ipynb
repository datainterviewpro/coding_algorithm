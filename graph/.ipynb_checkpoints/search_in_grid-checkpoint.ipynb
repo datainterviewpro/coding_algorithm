{
 "cells": [
  {
   "cell_type": "code",
   "execution_count": null,
   "id": "db44b8d0",
   "metadata": {},
   "outputs": [],
   "source": [
    "grid = [[0, 0, 1, 0, 0, 0],\n",
    "        [0, 0, 1, 0, 0, 0],\n",
    "        [0, 0, 0, 0, 1, 0],\n",
    "        [0, 0, 1, 1, 1, 0],\n",
    "        [0, 0, 0, 0, 1, 0]]\n",
    "delta = [[-1, 0], # go up\n",
    "         [ 0,-1], # go left\n",
    "         [ 1, 0], # go down\n",
    "         [ 0, 1]] # go right"
   ]
  },
  {
   "cell_type": "code",
   "execution_count": null,
   "id": "5954d18f",
   "metadata": {},
   "outputs": [],
   "source": [
    "visited = [len(grid[0]) * [0] ] * len(grid)\n",
    "visited"
   ]
  },
  {
   "cell_type": "code",
   "execution_count": null,
   "id": "62656547",
   "metadata": {},
   "outputs": [],
   "source": [
    "grid = [[0, 0, 1, 0, 0, 0],\n",
    "        [0, 0, 0, 0, 0, 0],\n",
    "        [0, 0, 0, 0, 1, 0],\n",
    "        [0, 0, 1, 1, 1, 0],\n",
    "        [0, 0, 0, 0, 1, 0]]\n",
    "init = [0, 0]\n",
    "goal = [len(grid)-1, len(grid[0])-1]\n",
    "cost = 1\n",
    "delta = [[-1, 0], # go up\n",
    "         [ 0,-1], # go left\n",
    "         [ 1, 0], # go down\n",
    "         [ 0, 1]] # go right\n",
    "delta_name = ['^', '<', 'v', '>']\n",
    "\n",
    "\n",
    "def search(grid,init,goal,cost):\n",
    "    visited = [[0 for r in range(len(grid[0]))] for c in range(len(grid))]\n",
    "    # visited node in grid\n",
    "    x = init[0]\n",
    "    y = init[1]\n",
    "    g = 0\n",
    "    visited[x][y] = 1\n",
    "    queue = [[g, x, y]]\n",
    "    found = False\n",
    "    resign = False\n",
    "    \n",
    "    while found is False and resign is False:\n",
    "        if len(queue) == 0:\n",
    "            resign = True\n",
    "            return 'fail'\n",
    "        else:\n",
    "#             print(queue)\n",
    "            queue.sort()\n",
    "            queue.reverse()\n",
    "#             print(\"sorted: \")\n",
    "#             print(queue)\n",
    "#             print(\"\")\n",
    "            # pop element w/ smallest g value\n",
    "            next_ = queue.pop()  # pop the last element\n",
    "            g = next_[0]\n",
    "            x = next_[1]\n",
    "            y = next_[2]\n",
    "            \n",
    "            \n",
    "            if x == goal[0] and y == goal[1]:\n",
    "                found = True\n",
    "                return next_\n",
    "                \n",
    "            else:\n",
    "                for i in range(len(delta)):\n",
    "                    x1 = x + delta[i][0]\n",
    "                    y1 = y + delta[i][1]\n",
    "                    if x1 >= 0 and x1 < len(grid) and y1 >= 0 and y1 < len(grid[0]):\n",
    "                        if visited[x1][y1] == 0 and grid[x1][y1] == 0:\n",
    "                            g1 = g + cost\n",
    "                            queue.append([g1, x1, y1])\n",
    "                            visited[x1][y1] = 1\n",
    "#                 print(queue) \n",
    "\n",
    "search(grid,init,goal,cost)"
   ]
  },
  {
   "cell_type": "code",
   "execution_count": null,
   "id": "985f8378",
   "metadata": {},
   "outputs": [],
   "source": [
    "x = [[0,0,0]]\n",
    "x.append([1,1,1])\n",
    "x"
   ]
  },
  {
   "cell_type": "code",
   "execution_count": null,
   "id": "7168c73b",
   "metadata": {},
   "outputs": [],
   "source": []
  },
  {
   "cell_type": "code",
   "execution_count": null,
   "id": "0086871e",
   "metadata": {},
   "outputs": [],
   "source": []
  },
  {
   "cell_type": "code",
   "execution_count": null,
   "id": "48f1cf6a",
   "metadata": {},
   "outputs": [],
   "source": []
  }
 ],
 "metadata": {
  "kernelspec": {
   "display_name": "Python 3 (ipykernel)",
   "language": "python",
   "name": "python3"
  },
  "language_info": {
   "codemirror_mode": {
    "name": "ipython",
    "version": 3
   },
   "file_extension": ".py",
   "mimetype": "text/x-python",
   "name": "python",
   "nbconvert_exporter": "python",
   "pygments_lexer": "ipython3",
   "version": "3.9.6"
  }
 },
 "nbformat": 4,
 "nbformat_minor": 5
}
