{
 "cells": [
  {
   "cell_type": "markdown",
   "metadata": {},
   "source": [
    "http://eddmann.com/posts/depth-first-search-and-breadth-first-search-in-python/"
   ]
  },
  {
   "cell_type": "code",
   "execution_count": 3,
   "metadata": {},
   "outputs": [],
   "source": [
    "graph = {'A': set(['B', 'C']),\n",
    "         'B': set(['A', 'D', 'E']),\n",
    "         'C': set(['A', 'F']),\n",
    "         'D': set(['B']),\n",
    "         'E': set(['B', 'F']),\n",
    "         'F': set(['C', 'E'])}"
   ]
  },
  {
   "cell_type": "code",
   "execution_count": 4,
   "metadata": {},
   "outputs": [
    {
     "data": {
      "text/plain": [
       "{'A': {'B', 'C'},\n",
       " 'B': {'A', 'D', 'E'},\n",
       " 'C': {'A', 'F'},\n",
       " 'D': {'B'},\n",
       " 'E': {'B', 'F'},\n",
       " 'F': {'C', 'E'}}"
      ]
     },
     "execution_count": 4,
     "metadata": {},
     "output_type": "execute_result"
    }
   ],
   "source": [
    "graph"
   ]
  },
  {
   "cell_type": "markdown",
   "metadata": {},
   "source": [
    "### DFS"
   ]
  },
  {
   "cell_type": "markdown",
   "metadata": {},
   "source": [
    "DFS: Explores possible vertices (from a supplied root) down each branch before backtracking \n",
    "1. Mark the current vertex as being visited.\n",
    "2. Explore each adjacent vertex that is not included in the visited set."
   ]
  },
  {
   "cell_type": "markdown",
   "metadata": {},
   "source": [
    "### disconnected graph"
   ]
  },
  {
   "cell_type": "code",
   "execution_count": 2,
   "metadata": {},
   "outputs": [],
   "source": [
    "def dfs(graph):\n",
    "    visited = set()\n",
    "    for start in graph:\n",
    "        if start in visited:\n",
    "            continue\n",
    "        visited.add(start)\n",
    "        stack = [start]\n",
    "        while stack:\n",
    "            node = stack.pop()        \n",
    "            for neighbor in graph[node]:\n",
    "                if neighbor in visited:\n",
    "                    continue\n",
    "                visited.add(neighbor)\n",
    "                stack.append(neighbor)"
   ]
  },
  {
   "cell_type": "code",
   "execution_count": 5,
   "metadata": {},
   "outputs": [],
   "source": [
    "dfs(graph)"
   ]
  },
  {
   "cell_type": "code",
   "execution_count": 3,
   "metadata": {},
   "outputs": [
    {
     "data": {
      "text/plain": [
       "{'A', 'B', 'C', 'D', 'E', 'F'}"
      ]
     },
     "execution_count": 3,
     "metadata": {},
     "output_type": "execute_result"
    }
   ],
   "source": [
    "def dfs(graph, start):\n",
    "    visited, stack = set(), [start]\n",
    "    while stack:\n",
    "        vertex = stack.pop()\n",
    "        if vertex not in visited:\n",
    "            visited.add(vertex)\n",
    "            stack.extend(graph[vertex] - visited)\n",
    "    return visited\n",
    "\n",
    "dfs(graph, 'A') # {'E', 'D', 'F', 'A', 'C', 'B'}"
   ]
  },
  {
   "cell_type": "code",
   "execution_count": 26,
   "metadata": {},
   "outputs": [
    {
     "name": "stdout",
     "output_type": "stream",
     "text": [
      "set(['A'])\n",
      "C\n",
      "set(['A', 'C'])\n",
      "F\n",
      "set(['A', 'C', 'F'])\n",
      "E\n",
      "set(['A', 'C', 'E', 'F'])\n",
      "B\n",
      "set(['A', 'C', 'B', 'E', 'F'])\n",
      "D\n",
      "set(['A', 'C', 'B', 'E', 'D', 'F'])\n"
     ]
    },
    {
     "data": {
      "text/plain": [
       "{'A', 'B', 'C', 'D', 'E', 'F'}"
      ]
     },
     "execution_count": 26,
     "metadata": {},
     "output_type": "execute_result"
    }
   ],
   "source": [
    "def dfs(graph, start, visited=None):\n",
    "    if visited is None:\n",
    "        visited = set()\n",
    "    visited.add(start)\n",
    "    print visited\n",
    "    for next in graph[start]:\n",
    "        if not next in visited:\n",
    "            dfs(graph, next, visited)\n",
    "    return visited\n",
    "\n",
    "dfs(graph, 'A') # {'E', 'D', 'F', 'A', 'C', 'B'}"
   ]
  },
  {
   "cell_type": "code",
   "execution_count": 6,
   "metadata": {},
   "outputs": [
    {
     "data": {
      "text/plain": [
       "[['A', 'C', 'F'], ['A', 'B', 'E', 'F']]"
      ]
     },
     "execution_count": 6,
     "metadata": {},
     "output_type": "execute_result"
    }
   ],
   "source": [
    "def dfs_paths(graph, start, goal):\n",
    "    stack = [(start, [start])]\n",
    "    while stack:\n",
    "        (node, path) = stack.pop()\n",
    "        for neighbor in graph[node]:\n",
    "            if neighbor in set(path):\n",
    "                continue\n",
    "            if neighbor == goal:\n",
    "                yield path + [neighbor]\n",
    "            else:\n",
    "                stack.append((neighbor, path + [neighbor]))\n",
    "\n",
    "list(dfs_paths(graph, 'A', 'F'))"
   ]
  },
  {
   "cell_type": "code",
   "execution_count": null,
   "metadata": {
    "collapsed": true
   },
   "outputs": [],
   "source": [
    "def dfs_paths(graph, start, goal, path=None):\n",
    "    if path is None:\n",
    "        path = [start]\n",
    "    if start == goal:\n",
    "        yield path\n",
    "    for next in graph[start] - set(path):\n",
    "        yield from dfs_paths(graph, next, goal, path + [next])\n",
    "\n",
    "list(dfs_paths(graph, 'C', 'F')) "
   ]
  },
  {
   "cell_type": "markdown",
   "metadata": {},
   "source": [
    "## 547. Friend Circles"
   ]
  },
  {
   "cell_type": "code",
   "execution_count": 17,
   "metadata": {},
   "outputs": [],
   "source": [
    "def findCircleNum(M):\n",
    "    \"\"\"\n",
    "    :type M: List[List[int]]\n",
    "    :rtype: int\n",
    "    \"\"\"\n",
    "    cir = set()\n",
    "    l = len(M)\n",
    "\n",
    "    def OneCircle(row):\n",
    "        for i,v in enumerate(M[row]):\n",
    "            v = int(v)\n",
    "            if v and i not in cir:\n",
    "                cir.add(i)\n",
    "                OneCircle(i)\n",
    "\n",
    "    count = 0\n",
    "    for i in range(l) :\n",
    "        if i not in cir:\n",
    "            OneCircle(i)\n",
    "            count += 1\n",
    "    return count"
   ]
  },
  {
   "cell_type": "code",
   "execution_count": 18,
   "metadata": {},
   "outputs": [
    {
     "data": {
      "text/plain": [
       "2"
      ]
     },
     "execution_count": 18,
     "metadata": {},
     "output_type": "execute_result"
    }
   ],
   "source": [
    "findCircleNum(['1100','1110','0110','0001'])"
   ]
  },
  {
   "cell_type": "code",
   "execution_count": 19,
   "metadata": {},
   "outputs": [
    {
     "data": {
      "text/plain": [
       "2"
      ]
     },
     "execution_count": 19,
     "metadata": {},
     "output_type": "execute_result"
    }
   ],
   "source": [
    "findCircleNum([[1,1,0,0,],[1,1,1,0],[0,1,1,0],[0,0,0,1]])"
   ]
  },
  {
   "cell_type": "markdown",
   "metadata": {
    "collapsed": true
   },
   "source": [
    "## 133. Clone Graph"
   ]
  },
  {
   "cell_type": "markdown",
   "metadata": {},
   "source": [
    "Clone an undirected graph. Each node in the graph contains a label and a list of its neighbors."
   ]
  },
  {
   "cell_type": "code",
   "execution_count": null,
   "metadata": {
    "collapsed": true
   },
   "outputs": [],
   "source": [
    "# Definition for a undirected graph node\n",
    "# class UndirectedGraphNode:\n",
    "#     def __init__(self, x):\n",
    "#         self.label = x\n",
    "#         self.neighbors = []\n",
    "\n",
    "class Solution:\n",
    "    # @param node, a undirected graph node\n",
    "    # @return a undirected graph node\n",
    "    def cloneGraph(self, node):  #DFS\n",
    "        if not node:\n",
    "            return node\n",
    "        root = UndirectedGraphNode(node.label)\n",
    "        stack = [node] #object\n",
    "        visit = {}\n",
    "        visit[node.label] = root \n",
    "        # key is label, value is the label of the UDRN\n",
    "        while stack:\n",
    "            top = stack.pop() #object\n",
    "            for n in top.neighbors: #object\n",
    "                if n.label not in visit:\n",
    "                    stack.append(n)  #object\n",
    "                    visit[n.label] = UndirectedGraphNode(n.label)\n",
    "                visit[top.label].neighbors.append(visit[n.label])\n",
    "        return root"
   ]
  },
  {
   "cell_type": "markdown",
   "metadata": {},
   "source": [
    "## subsets\n",
    "\n",
    "https://leetcode.com/problems/subsets/"
   ]
  },
  {
   "cell_type": "code",
   "execution_count": null,
   "metadata": {
    "collapsed": true
   },
   "outputs": [],
   "source": [
    "# iterative method\n",
    "class Solution:\n",
    "    def subsets(self, nums):\n",
    "        result = []\n",
    "        n = len(nums)\n",
    "        nums.sort()\n",
    "\n",
    "        # 1 << n is 2^n\n",
    "        # each subset equals to an binary integer between 0 .. 2^n - 1\n",
    "        # 0 -> 000 -> []\n",
    "        # 1 -> 001 -> [1]\n",
    "        # 2 -> 010 -> [2]\n",
    "        # ..\n",
    "        # 7 -> 111 -> [1,2,3]\n",
    "        for i in range(1 << n):\n",
    "            subset = []\n",
    "            for j in range(n):\n",
    "                if (i & (1 << j)) != 0:\n",
    "                    subset.append(nums[j])\n",
    "            result.append(subset)\n",
    "        return result\n"
   ]
  },
  {
   "cell_type": "code",
   "execution_count": null,
   "metadata": {},
   "outputs": [],
   "source": []
  },
  {
   "cell_type": "code",
   "execution_count": null,
   "metadata": {},
   "outputs": [],
   "source": []
  }
 ],
 "metadata": {
  "kernelspec": {
   "display_name": "Python 3 (ipykernel)",
   "language": "python",
   "name": "python3"
  },
  "language_info": {
   "codemirror_mode": {
    "name": "ipython",
    "version": 3
   },
   "file_extension": ".py",
   "mimetype": "text/x-python",
   "name": "python",
   "nbconvert_exporter": "python",
   "pygments_lexer": "ipython3",
   "version": "3.9.6"
  }
 },
 "nbformat": 4,
 "nbformat_minor": 1
}
