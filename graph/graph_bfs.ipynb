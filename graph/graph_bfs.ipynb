{
 "cells": [
  {
   "cell_type": "markdown",
   "metadata": {},
   "source": [
    "http://eddmann.com/posts/depth-first-search-and-breadth-first-search-in-python/"
   ]
  },
  {
   "cell_type": "code",
   "execution_count": 4,
   "metadata": {},
   "outputs": [],
   "source": [
    "graph = {'A': set(['B', 'C']),\n",
    "         'B': set(['A', 'D', 'E']),\n",
    "         'C': set(['A', 'F']),\n",
    "         'D': set(['B']),\n",
    "         'E': set(['B', 'F']),\n",
    "         'F': set(['C', 'E'])}"
   ]
  },
  {
   "cell_type": "code",
   "execution_count": 5,
   "metadata": {},
   "outputs": [
    {
     "data": {
      "text/plain": [
       "{'A': {'B', 'C'},\n",
       " 'B': {'A', 'D', 'E'},\n",
       " 'C': {'A', 'F'},\n",
       " 'D': {'B'},\n",
       " 'E': {'B', 'F'},\n",
       " 'F': {'C', 'E'}}"
      ]
     },
     "execution_count": 5,
     "metadata": {},
     "output_type": "execute_result"
    }
   ],
   "source": [
    "graph"
   ]
  },
  {
   "cell_type": "markdown",
   "metadata": {},
   "source": [
    "### BFS Template"
   ]
  },
  {
   "cell_type": "code",
   "execution_count": 16,
   "metadata": {},
   "outputs": [],
   "source": [
    "from collections import deque"
   ]
  },
  {
   "cell_type": "markdown",
   "metadata": {},
   "source": [
    "### disconnected graph"
   ]
  },
  {
   "cell_type": "code",
   "execution_count": 23,
   "metadata": {},
   "outputs": [],
   "source": [
    "def bfs(graph):\n",
    "    visited = set()\n",
    "    for start in graph:\n",
    "        if start in visited:\n",
    "            continue\n",
    "        visited.add(start)\n",
    "        queue = deque([start])\n",
    "        while queue:\n",
    "            node = queue.popleft()        \n",
    "            for neighbor in graph[node]:\n",
    "                if neighbor in visited:\n",
    "                    continue\n",
    "                visited.add(neighbor)\n",
    "                queue.append(neighbor)"
   ]
  },
  {
   "cell_type": "markdown",
   "metadata": {},
   "source": [
    "### connected graph"
   ]
  },
  {
   "cell_type": "code",
   "execution_count": 21,
   "metadata": {},
   "outputs": [],
   "source": [
    "# do not distinguish different level/layer\n",
    "\n",
    "def bfs(graph, start):\n",
    "    visited = set([start])\n",
    "    queue = deque([start])\n",
    "    \n",
    "    while queue:\n",
    "        node = queue.popleft()\n",
    "        for neighbor in graph[node]:\n",
    "            if neighbor in visited:\n",
    "                continue\n",
    "            visited.add(neighbor)\n",
    "            queue.append(neighbor)"
   ]
  },
  {
   "cell_type": "code",
   "execution_count": 22,
   "metadata": {},
   "outputs": [
    {
     "data": {
      "text/plain": [
       "{'A', 'B', 'C', 'D', 'E', 'F'}"
      ]
     },
     "execution_count": 22,
     "metadata": {},
     "output_type": "execute_result"
    }
   ],
   "source": [
    "bfs(graph, 'A')"
   ]
  },
  {
   "cell_type": "code",
   "execution_count": null,
   "metadata": {},
   "outputs": [],
   "source": [
    "# distinguish different level/layer\n",
    "\n",
    "def bfs(graph, start):\n",
    "    visited = set([start])\n",
    "    queue = deque([start])\n",
    "    \n",
    "    while queue:\n",
    "        size = len(queue)\n",
    "        for _ in range(size):\n",
    "            node = queue.popleft()\n",
    "            for neighbor in node.neighbors:\n",
    "                if neighbor in visited:\n",
    "                    continue\n",
    "                visited.add(neighbor)\n",
    "                queue.append(neighbor)"
   ]
  },
  {
   "cell_type": "markdown",
   "metadata": {},
   "source": [
    "## find all paths"
   ]
  },
  {
   "cell_type": "code",
   "execution_count": 30,
   "metadata": {},
   "outputs": [],
   "source": [
    "def bfs_paths(graph, start, goal):\n",
    "    queue = [(start, [start])]\n",
    "    while queue:\n",
    "        (node, path) = queue.pop(0)\n",
    "        for neighbor in graph[node]:\n",
    "            if neighbor in set(path):\n",
    "                continue\n",
    "            if neighbor == goal:\n",
    "                yield path + [neighbor]\n",
    "            else:\n",
    "                queue.append((neighbor, path + [neighbor]))"
   ]
  },
  {
   "cell_type": "code",
   "execution_count": 31,
   "metadata": {},
   "outputs": [
    {
     "data": {
      "text/plain": [
       "[['A', 'C', 'F'], ['A', 'B', 'E', 'F']]"
      ]
     },
     "execution_count": 31,
     "metadata": {},
     "output_type": "execute_result"
    }
   ],
   "source": [
    "list(bfs_paths(graph, 'A', 'F'))"
   ]
  },
  {
   "cell_type": "markdown",
   "metadata": {},
   "source": [
    "## find shortest path"
   ]
  },
  {
   "cell_type": "code",
   "execution_count": null,
   "metadata": {
    "collapsed": true
   },
   "outputs": [],
   "source": [
    "def shortest_path(graph, start, goal):\n",
    "    try:\n",
    "        return next(bfs_paths(graph, start, goal))\n",
    "    except StopIteration:\n",
    "        return None\n",
    "\n",
    "shortest_path(graph, 'A', 'F')"
   ]
  },
  {
   "cell_type": "markdown",
   "metadata": {},
   "source": [
    "## subsets\n",
    "\n",
    "https://leetcode.com/problems/subsets/"
   ]
  },
  {
   "cell_type": "code",
   "execution_count": null,
   "metadata": {},
   "outputs": [],
   "source": [
    "Input: nums = [1,2,3]\n",
    "Output: [[],[1],[2],[1,2],[3],[1,3],[2,3],[1,2,3]]"
   ]
  },
  {
   "cell_type": "code",
   "execution_count": 7,
   "metadata": {},
   "outputs": [],
   "source": [
    "# bfs\n",
    "class Solution:\n",
    "    def subsets(self, nums):\n",
    "        results = []\n",
    "\n",
    "        if not nums:\n",
    "            return results\n",
    "\n",
    "        nums.sort()\n",
    "\n",
    "        # BFS\n",
    "        queue = deque()\n",
    "        queue.append([])\n",
    "\n",
    "        while queue:\n",
    "            subset = queue.popleft()\n",
    "            results.append(subset)\n",
    "\n",
    "            for i in range(len(nums)):\n",
    "                if not subset or subset[-1] < nums[i]:\n",
    "                    nextSubset = list(subset)\n",
    "                    nextSubset.append(nums[i])\n",
    "                    queue.append(nextSubset)\n",
    "\n",
    "        return results\n"
   ]
  },
  {
   "cell_type": "markdown",
   "metadata": {},
   "source": [
    "## bidirectional bfs"
   ]
  },
  {
   "cell_type": "code",
   "execution_count": null,
   "metadata": {},
   "outputs": [],
   "source": [
    "from collections import deque\n",
    "\n",
    "def doubleBFS(start, end):\n",
    "    if start == end:\n",
    "        return 1\n",
    "    \n",
    "    # two different queues\n",
    "    startQueue, endQueue = deque(), deque()\n",
    "    startQueue.append(start)\n",
    "    endQueue.append(end)\n",
    "    step = 0\n",
    "    \n",
    "    startVisited, endVisited = set(), set()\n",
    "    startVisited.add(start)\n",
    "    endVisited.add(end)\n",
    "    while len(startQueue) and len(endQueue):\n",
    "        startSize, endSize = len(startQueue), len(endQueue)\n",
    "        #　search by layer\n",
    "        step += 1\n",
    "        for _ in range(startSize):\n",
    "            cur = startQueue.popleft()\n",
    "            for neighbor in cur.neighbors:\n",
    "                if neighbor in startVisited: # overlapped node\n",
    "                    continue\n",
    "                elif neighbor in endVisited: # overlapped node\n",
    "                    return step\n",
    "                else:\n",
    "                    startVisited.add(neighbor)\n",
    "                    startQueue.append(neighbor)\n",
    "        step += 1\n",
    "        for _ in range(endSize):\n",
    "            cur = endQueue.popleft()\n",
    "            for neighbor in cur.neighbors:\n",
    "                if neighbor in endVisited:\n",
    "                    continue\n",
    "                elif neighbor in startVisited:\n",
    "                    return step\n",
    "                else:\n",
    "                    endVisited.add(neighbor)\n",
    "                    endQueue.append(neighbor)\n",
    "    \n",
    "    return -1"
   ]
  },
  {
   "cell_type": "markdown",
   "metadata": {},
   "source": [
    "## Topological Sorting"
   ]
  },
  {
   "cell_type": "code",
   "execution_count": null,
   "metadata": {},
   "outputs": [],
   "source": [
    "class Solution:\n",
    "    \"\"\"\n",
    "        @param graph: A list of Directed graph node\n",
    "        @return: A list of integer\n",
    "        \"\"\"\n",
    "    def topSort(self, graph):\n",
    "        node_to_indegree = self.get_indegree(graph)\n",
    "        \n",
    "        # bfs\n",
    "        order = []\n",
    "        start_nodes = [n for n in graph if node_to_indegree[n] == 0]\n",
    "        queue = collections.deque(start_nodes)\n",
    "        while queue:\n",
    "            node = queue.popleft()\n",
    "            order.append(node)\n",
    "            for neighbor in node.neighbors:\n",
    "                node_to_indegree[neighbor] -= 1\n",
    "                if node_to_indegree[neighbor] == 0:\n",
    "                    queue.append(neighbor)\n",
    "        \n",
    "    return order\n",
    "\n",
    "def get_indegree(self, graph):\n",
    "    node_to_indegree = {x: 0 for x in graph}\n",
    "        \n",
    "        for node in graph:\n",
    "            for neighbor in node.neighbors:\n",
    "                node_to_indegree[neighbor] += 1\n",
    "\n",
    "    return node_to_indegree\n"
   ]
  },
  {
   "cell_type": "code",
   "execution_count": null,
   "metadata": {},
   "outputs": [],
   "source": []
  }
 ],
 "metadata": {
  "kernelspec": {
   "display_name": "Python 3 (ipykernel)",
   "language": "python",
   "name": "python3"
  },
  "language_info": {
   "codemirror_mode": {
    "name": "ipython",
    "version": 3
   },
   "file_extension": ".py",
   "mimetype": "text/x-python",
   "name": "python",
   "nbconvert_exporter": "python",
   "pygments_lexer": "ipython3",
   "version": "3.9.6"
  }
 },
 "nbformat": 4,
 "nbformat_minor": 1
}
