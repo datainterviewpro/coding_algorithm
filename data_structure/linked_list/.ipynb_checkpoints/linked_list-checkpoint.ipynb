{
 "cells": [
  {
   "cell_type": "markdown",
   "metadata": {},
   "source": [
    "## Find the element in a singly linked list that's m elements from the end\n",
    "\n",
    "http://www.geeksforgeeks.org/nth-node-from-the-end-of-a-linked-list/"
   ]
  },
  {
   "cell_type": "code",
   "execution_count": null,
   "metadata": {},
   "outputs": [],
   "source": [
    "def question5(ll, m): # use two pointers: main_pt and ref_pt\n",
    "    main_pt = ll\n",
    "    ref_pt = ll\n",
    "\n",
    "    count = 0\n",
    "    if ll is not None:\n",
    "        while count < m:\n",
    "            if ref_pt is None:\n",
    "                return # if m is larger than the length of the singly linked list\n",
    "            # move ref_pt to the node that is m elements from the head\n",
    "            ref_pt = ref_pt.next \n",
    "            count += 1\n",
    "\n",
    "    while ref_pt is not None:\n",
    "        # move ref_pt to the end \n",
    "        # move main_pt to the node that is m elements from the end\n",
    "        main_pt = main_pt.next\n",
    "        ref_pt = ref_pt.next\n",
    "    return main_pt.data\n",
    "\n",
    "class Node(object):\n",
    "    def __init__(self, data):\n",
    "        self.data = data\n",
    "        self.next = None\n",
    "        \n",
    "class linkedlist(object):\n",
    "    def __init__(self):\n",
    "        self.head = None\n",
    "        \n",
    "    def push(self,new_data):\n",
    "        node = Node(new_data)\n",
    "        node.next = self.head\n",
    "        self.head = node\n",
    "\n",
    "list0 = linkedlist()\n",
    "list0.push(2)\n",
    "list0.push(4)\n",
    "list0.push(1)\n",
    "list0.push(6)\n",
    "print question5(list0.head,2) # 4\n",
    "\n",
    "list1 = linkedlist()\n",
    "list1.push(2)\n",
    "list1.push(1)\n",
    "list1.push(6)\n",
    "print question5(list1.head,1) # 2\n",
    "\n",
    "list2 = linkedlist()\n",
    "list2.push(2)\n",
    "list2.push(1)\n",
    "list2.push(6)\n",
    "print question5(list2.head,4) # None\n",
    "\n",
    "# In this problem, we are asked to find the element in a singly linked list that's m elements from the end. My idea is to use two pointers – reference pointer and main pointer. We initialize both reference and main pointers to head. First we move reference pointer to n nodes from head, then move both pointers one by one until reference pointer reaches end. Now the main pointer points to nth node from the end. The time complexity is O(n) where n is the length of linked list. The space complexity is O(1).\n"
   ]
  },
  {
   "cell_type": "markdown",
   "metadata": {},
   "source": [
    "## 234  Palindrome Linked List"
   ]
  },
  {
   "cell_type": "code",
   "execution_count": null,
   "metadata": {},
   "outputs": [],
   "source": [
    "# Definition for singly-linked list.\n",
    "# class ListNode(object):\n",
    "#     def __init__(self, x):\n",
    "#         self.val = x\n",
    "#         self.next = None\n",
    "\n",
    "class Solution(object):\n",
    "    def isPalindrome(self, head):\n",
    "        \"\"\"\n",
    "        :type head: ListNode\n",
    "        :rtype: bool\n",
    "        \"\"\"\n",
    "        rev = None\n",
    "        slow = fast = head\n",
    "        while fast and fast.next:\n",
    "            fast = fast.next.next\n",
    "            rev, rev.next, slow = slow, rev, slow.next\n",
    "\n",
    "        if fast:\n",
    "            slow = slow.next\n",
    "        while rev and rev.val == slow.val:\n",
    "            slow = slow.next\n",
    "            rev = rev.next\n",
    "        return not rev"
   ]
  },
  {
   "cell_type": "markdown",
   "metadata": {},
   "source": [
    "## 382. Linked List Random Node"
   ]
  },
  {
   "cell_type": "code",
   "execution_count": null,
   "metadata": {},
   "outputs": [],
   "source": [
    "# Definition for singly-linked list.\n",
    "# class ListNode(object):\n",
    "#     def __init__(self, x):\n",
    "#         self.val = x\n",
    "#         self.next = None\n",
    "\n",
    "class Solution(object):\n",
    "\n",
    "    def __init__(self, head):\n",
    "        \"\"\"\n",
    "        @param head The linked list's head.\n",
    "        Note that the head is guaranteed to be not null, so it contains at least one node.\n",
    "        :type head: ListNode\n",
    "        \"\"\"\n",
    "        self.head = head\n",
    "\n",
    "    def getRandom(self):\n",
    "        \"\"\"\n",
    "        Returns a random node's value.\n",
    "        :rtype: int\n",
    "        \"\"\"\n",
    "        node = self.head\n",
    "        count =0\n",
    "        while node:\n",
    "            node = node.next\n",
    "            count += 1\n",
    "        node = self.head\n",
    "        for i in range(random.randrange(count)):\n",
    "            node = node.next\n",
    "        return node.val"
   ]
  },
  {
   "cell_type": "markdown",
   "metadata": {},
   "source": [
    "## 2 Add Two Numbers"
   ]
  },
  {
   "cell_type": "code",
   "execution_count": null,
   "metadata": {
    "collapsed": true
   },
   "outputs": [],
   "source": [
    "# Definition for singly-linked list.\n",
    "# class ListNode(object):\n",
    "#     def __init__(self, x):\n",
    "#         self.val = x\n",
    "#         self.next = None\n",
    "\n",
    "class Solution(object):\n",
    "    def addTwoNumbers(self, l1, l2):\n",
    "        \"\"\"\n",
    "        :type l1: ListNode\n",
    "        :type l2: ListNode\n",
    "        :rtype: ListNode\n",
    "        \"\"\"\n",
    "        s1 = []\n",
    "        s2 = []\n",
    "        res = []\n",
    "        while l1 != None:\n",
    "            s1.append(l1.val)\n",
    "            l1 = l1.next\n",
    "        while l2 != None:\n",
    "            s2.append(l2.val)\n",
    "            l2 = l2.next\n",
    "        c = 0\n",
    "        for i in range(len(s1)):\n",
    "            if s1[i] + s2[i] < 10:\n",
    "                if c == 0:\n",
    "                    res.append(s1[i] + s2[i])\n",
    "                else:\n",
    "                    res.append(s1[i] + s2[i]+1)\n",
    "            else:\n",
    "                res.append(s1[i] + s2[i] - 10)\n",
    "                c = 1\n",
    "        return res"
   ]
  },
  {
   "cell_type": "markdown",
   "metadata": {},
   "source": [
    "## 445 Add Two Numbers II"
   ]
  },
  {
   "cell_type": "code",
   "execution_count": null,
   "metadata": {
    "collapsed": true
   },
   "outputs": [],
   "source": [
    "# Definition for singly-linked list.\n",
    "# class ListNode(object):\n",
    "#     def __init__(self, x):\n",
    "#         self.val = x\n",
    "#         self.next = None\n",
    "\n",
    "class Solution(object):\n",
    "    def addTwoNumbers(self, l1, l2):\n",
    "        \"\"\"\n",
    "        :type l1: ListNode\n",
    "        :type l2: ListNode\n",
    "        :rtype: ListNode\n",
    "        \"\"\"\n",
    "        s1 = []\n",
    "        s2 = []\n",
    "        while l1 != None:\n",
    "            s1.append(l1.val)\n",
    "            l1 = l1.next\n",
    "        while l2 != None:\n",
    "            s2.append(l2.val)\n",
    "            l2 = l2.next\n",
    "        \n",
    "        sum = 0\n",
    "        list0 = ListNode(0)\n",
    "        while s1 or s2:\n",
    "            if s1:\n",
    "                sum += s1.pop()\n",
    "            if s2:\n",
    "                sum += s2.pop()\n",
    "            list0.val = sum % 10\n",
    "            head = ListNode(sum/10)\n",
    "            head.next = list0\n",
    "            list0 = head\n",
    "            sum /= 10\n",
    "            \n",
    "        if list0.val == 0:\n",
    "            return list0.next\n",
    "        return list0"
   ]
  },
  {
   "cell_type": "markdown",
   "metadata": {
    "collapsed": true
   },
   "source": [
    "## linked_list_to_queue"
   ]
  },
  {
   "cell_type": "code",
   "execution_count": null,
   "metadata": {
    "collapsed": true
   },
   "outputs": [],
   "source": [
    "class QueueNode:\n",
    "    def __init__(self, value):\n",
    "        self.val = value\n",
    "        self.next = None\n",
    "\n",
    "\n",
    "class Queue:\n",
    "    def __init__(self):\n",
    "        self.dummy = QueueNode(-1)\n",
    "        self.tail = self.dummy\n",
    "    \n",
    "    def enqueue(self, val):\n",
    "        node = QueueNode(val)\n",
    "        self.tail.next = node\n",
    "        self.tail = node\n",
    "    \n",
    "    def dequeue(self):\n",
    "        ele = self.dummy.next.val\n",
    "        self.dummy.next = self.dummy.next.next\n",
    "        \n",
    "        if not self.dummy.next:\n",
    "            self.tail = self.dummy\n",
    "        return ele\n",
    "    \n",
    "    def peek(self):\n",
    "        return self.dummy.next.val\n",
    "    \n",
    "    def isEmpty(self):\n",
    "        return self.dummy.next == None\n"
   ]
  },
  {
   "cell_type": "code",
   "execution_count": null,
   "metadata": {
    "collapsed": true
   },
   "outputs": [],
   "source": []
  }
 ],
 "metadata": {
  "kernelspec": {
   "display_name": "Python 3 (ipykernel)",
   "language": "python",
   "name": "python3"
  },
  "language_info": {
   "codemirror_mode": {
    "name": "ipython",
    "version": 3
   },
   "file_extension": ".py",
   "mimetype": "text/x-python",
   "name": "python",
   "nbconvert_exporter": "python",
   "pygments_lexer": "ipython3",
   "version": "3.9.6"
  }
 },
 "nbformat": 4,
 "nbformat_minor": 2
}
