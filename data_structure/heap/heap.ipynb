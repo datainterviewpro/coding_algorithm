{
 "cells": [
  {
   "cell_type": "code",
   "execution_count": null,
   "id": "2e0bea80",
   "metadata": {},
   "outputs": [],
   "source": [
    "import sys\n",
    "import collections\n",
    "class Solution:\n",
    "    # @param A: Given an integer array\n",
    "    # @return: void\n",
    "    def  siftup(self, A, k):\n",
    "        while k != 0:\n",
    "            father = (k - 1) // 2\n",
    "            if A[k] > A[father]:\n",
    "                break\n",
    "            temp = A[k]\n",
    "            A[k] = A[father]\n",
    "            A[father] = temp\n",
    "            \n",
    "            k = father\n",
    "    def heapify(self, A):\n",
    "        for i in range(len(A)):\n",
    "            self.siftup(A, i)\n"
   ]
  },
  {
   "cell_type": "code",
   "execution_count": null,
   "id": "ff034abe",
   "metadata": {},
   "outputs": [],
   "source": [
    "import sys\n",
    "import collections\n",
    "class Solution:\n",
    "    # @param A: Given an integer array\n",
    "    # @return: void\n",
    "    def siftdown(self, A, k):\n",
    "        while k * 2 + 1 < len(A):\n",
    "            son = k * 2 + 1    #A[i] left son's index\n",
    "            if k * 2 + 2 < len(A) and A[son] > A[k * 2 + 2]:\n",
    "                son = k * 2 + 2    #choose the min between the two sons\n",
    "            if A[son] >= A[k]:\n",
    "                break\n",
    "            \n",
    "            temp = A[son]\n",
    "            A[son] = A[k]\n",
    "            A[k] = temp\n",
    "            k = son\n",
    "    \n",
    "    def heapify(self, A):\n",
    "        for i in range(len(A) - 1, -1, -1):\n",
    "            self.siftdown(A, i)\n"
   ]
  }
 ],
 "metadata": {
  "kernelspec": {
   "display_name": "Python 3 (ipykernel)",
   "language": "python",
   "name": "python3"
  },
  "language_info": {
   "codemirror_mode": {
    "name": "ipython",
    "version": 3
   },
   "file_extension": ".py",
   "mimetype": "text/x-python",
   "name": "python",
   "nbconvert_exporter": "python",
   "pygments_lexer": "ipython3",
   "version": "3.9.6"
  }
 },
 "nbformat": 4,
 "nbformat_minor": 5
}
