{
 "cells": [
  {
   "cell_type": "code",
   "execution_count": null,
   "metadata": {},
   "outputs": [],
   "source": []
  },
  {
   "cell_type": "code",
   "execution_count": null,
   "metadata": {},
   "outputs": [],
   "source": []
  },
  {
   "cell_type": "code",
   "execution_count": null,
   "metadata": {},
   "outputs": [],
   "source": []
  },
  {
   "cell_type": "code",
   "execution_count": null,
   "metadata": {},
   "outputs": [],
   "source": []
  },
  {
   "cell_type": "code",
   "execution_count": null,
   "metadata": {},
   "outputs": [],
   "source": []
  },
  {
   "cell_type": "markdown",
   "metadata": {},
   "source": [
    "## 347. Top K Frequent Elements"
   ]
  },
  {
   "cell_type": "code",
   "execution_count": null,
   "metadata": {
    "collapsed": true
   },
   "outputs": [],
   "source": [
    "import collections\n",
    "\n",
    "class Solution(object):\n",
    "    def topKFrequent(self, nums, k):\n",
    "        \"\"\"\n",
    "        :type nums: List[int]\n",
    "        :type k: int\n",
    "        :rtype: List[int]\n",
    "        \"\"\"\n",
    "        # Use Counter to extract the top k frequent elements\n",
    "        # most_common(k) return a list of tuples, where the first item of the tuple is the element,\n",
    "        # and the second item of the tuple is the count\n",
    "        # Thus, the built-in zip function could be used to extract the first item from the tuples\n",
    "        return zip(*collections.Counter(nums).most_common(k))[0]"
   ]
  },
  {
   "cell_type": "markdown",
   "metadata": {},
   "source": [
    "## 560. Subarray Sum Equals K"
   ]
  },
  {
   "cell_type": "code",
   "execution_count": null,
   "metadata": {},
   "outputs": [],
   "source": [
    "class Solution(object):\n",
    "    def subarraySum(self, nums, k):\n",
    "        \"\"\"\n",
    "        :type nums: List[int]\n",
    "        :type k: int\n",
    "        :rtype: int\n",
    "        \"\"\"\n",
    "        import collections\n",
    "        count = collections.Counter()\n",
    "        res = 0\n",
    "        sm = 0\n",
    "        count[0] = 1\n",
    "        for n in nums:\n",
    "            sm += n\n",
    "            res += count[sm-k]\n",
    "            count[sm] += 1\n",
    "        return res"
   ]
  },
  {
   "cell_type": "markdown",
   "metadata": {},
   "source": [
    "## 384. Shuffle an Array"
   ]
  },
  {
   "cell_type": "code",
   "execution_count": null,
   "metadata": {},
   "outputs": [],
   "source": [
    "class Solution(object):\n",
    "\n",
    "    def __init__(self, nums):\n",
    "        \"\"\"\n",
    "        :type nums: List[int]\n",
    "        \"\"\"\n",
    "        self.reset = lambda: nums\n",
    "        self.shuffle = lambda: random.sample(nums,len(nums))\n",
    "        \n",
    "\n",
    "    def reset(self):\n",
    "        \"\"\"\n",
    "        Resets the array to its original configuration and return it.\n",
    "        :rtype: List[int]\n",
    "        \"\"\"\n",
    "        return self.reset\n",
    "\n",
    "    def shuffle(self):\n",
    "        \"\"\"\n",
    "        Returns a random shuffling of the array.\n",
    "        :rtype: List[int]\n",
    "        \"\"\"\n",
    "        return self.shuffle"
   ]
  },
  {
   "cell_type": "markdown",
   "metadata": {},
   "source": [
    "##  Maximum difference between two elements such that larger element appears after the smaller number"
   ]
  },
  {
   "cell_type": "code",
   "execution_count": 3,
   "metadata": {},
   "outputs": [],
   "source": [
    "def maxdiff(list_):\n",
    "    max_diff = list_[1] - list_[0]\n",
    "    min_ele = list_[0]\n",
    "    ma = 0\n",
    "    mi = 0\n",
    "    res = []\n",
    "    for i in range(1,len(list_)):\n",
    "        if list_[i] - min_ele > max_diff:\n",
    "            max_diff = list_[i] - min_ele\n",
    "            ma = i\n",
    "        if list_[i] < min_ele:\n",
    "            min_ele = list_[i] \n",
    "            mi = i\n",
    "        if ma > mi:\n",
    "            res = [ma,mi]\n",
    "    return max_diff,res[0],res[1]"
   ]
  },
  {
   "cell_type": "code",
   "execution_count": 4,
   "metadata": {},
   "outputs": [
    {
     "data": {
      "text/plain": [
       "(8, 2, 0)"
      ]
     },
     "execution_count": 4,
     "metadata": {},
     "output_type": "execute_result"
    }
   ],
   "source": [
    "maxdiff( [2, 3, 10, 6, 4, 8, 1] )"
   ]
  },
  {
   "cell_type": "markdown",
   "metadata": {},
   "source": [
    "## 539. Minimum Time Difference\n",
    "\n",
    "Given a list of 24-hour clock time points in \"Hour:Minutes\" format, find the minimum minutes difference between any two time points in the list."
   ]
  },
  {
   "cell_type": "code",
   "execution_count": null,
   "metadata": {},
   "outputs": [],
   "source": [
    "class Solution(object):\n",
    "    def findMinDifference(self, timePoints):\n",
    "        \"\"\"\n",
    "        :type timePoints: List[str]\n",
    "        :rtype: int\n",
    "        \"\"\"\n",
    "        def getMin(x): # covert to minutes\n",
    "            return int(x[:2]) * 60 + int(x[3:])\n",
    "        \n",
    "        mint = map(getMin,timePoints) \n",
    "        mint.sort()\n",
    "        # print mint\n",
    "        return min( (y - x) % (24 * 60) for x,y in zip(mint,mint[1:]+mint[:1]) )"
   ]
  },
  {
   "cell_type": "markdown",
   "metadata": {},
   "source": [
    "Convert each timestamp to it's integer number of minutes past midnight, and sort the array of minutes.\n",
    "The required minimum difference must be a difference between two adjacent elements in the circular array (so the last element is \"adjacent\" to the first.) We take the minimum value of all of them."
   ]
  }
 ],
 "metadata": {
  "kernelspec": {
   "display_name": "Python 3 (ipykernel)",
   "language": "python",
   "name": "python3"
  },
  "language_info": {
   "codemirror_mode": {
    "name": "ipython",
    "version": 3
   },
   "file_extension": ".py",
   "mimetype": "text/x-python",
   "name": "python",
   "nbconvert_exporter": "python",
   "pygments_lexer": "ipython3",
   "version": "3.9.6"
  }
 },
 "nbformat": 4,
 "nbformat_minor": 2
}
