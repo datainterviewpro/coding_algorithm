{
 "cells": [
  {
   "cell_type": "markdown",
   "id": "587e8f68",
   "metadata": {},
   "source": [
    "http://www.lintcode.com/zh-cn/problem/implement-queue-by-circular-array/"
   ]
  },
  {
   "cell_type": "code",
   "execution_count": null,
   "id": "dfcf0a78",
   "metadata": {},
   "outputs": [],
   "source": [
    "class CircularQueue:\n",
    "    def __init__(self, n):\n",
    "        self.circularArray = [0]*n\n",
    "        self.front = 0\n",
    "        self.rear = 0\n",
    "        self.size = 0\n",
    "    \n",
    "    \"\"\"\n",
    "        @return:  return true if the array is full\n",
    "        \"\"\"\n",
    "    def isFull(self):\n",
    "        return self.size == len(self.circularArray)\n",
    "    \n",
    "    \"\"\"\n",
    "        @return: return true if there is no element in the array\n",
    "        \"\"\"\n",
    "    def isEmpty(self):\n",
    "        return self.size == 0\n",
    "    \n",
    "    \"\"\"\n",
    "        @param element: the element given to be added\n",
    "        @return: nothing\n",
    "        \"\"\"\n",
    "    def enqueue(self, element):\n",
    "        if self.isFull():\n",
    "            raise RuntimeError(\"Queue is already full\")\n",
    "        self.rear = (self.front+self.size) % len(self.circularArray)\n",
    "        self.circularArray[self.rear] = element\n",
    "        self.size += 1\n",
    "    \n",
    "    \"\"\"\n",
    "        @return: pop an element from the queue\n",
    "        \"\"\"\n",
    "    def dequeue(self):\n",
    "        if self.isEmpty():\n",
    "            raise RuntimeError(\"Queue is already empty\")\n",
    "        ele = self.circularArray[self.front]\n",
    "        self.front = (self.front+1) % len(self.circularArray)\n",
    "        self.size -= 1\n",
    "        return ele\n",
    "\n"
   ]
  }
 ],
 "metadata": {
  "kernelspec": {
   "display_name": "Python 3 (ipykernel)",
   "language": "python",
   "name": "python3"
  },
  "language_info": {
   "codemirror_mode": {
    "name": "ipython",
    "version": 3
   },
   "file_extension": ".py",
   "mimetype": "text/x-python",
   "name": "python",
   "nbconvert_exporter": "python",
   "pygments_lexer": "ipython3",
   "version": "3.9.6"
  }
 },
 "nbformat": 4,
 "nbformat_minor": 5
}
