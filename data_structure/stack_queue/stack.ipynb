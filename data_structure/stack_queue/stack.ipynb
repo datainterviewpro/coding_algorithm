{
 "cells": [
  {
   "cell_type": "markdown",
   "id": "c182dce4",
   "metadata": {},
   "source": [
    "## Valid Parentheses\n",
    "\n",
    "https://leetcode.com/problems/valid-parentheses/"
   ]
  },
  {
   "cell_type": "code",
   "execution_count": null,
   "id": "5febed53",
   "metadata": {},
   "outputs": [],
   "source": [
    "class Solution(object):\n",
    "    def isValid(self, s):\n",
    "        \"\"\"\n",
    "        :type s: str\n",
    "        :rtype: bool\n",
    "        \"\"\"\n",
    "        stack = deque()\n",
    "        pair = {'[': ']', '{': '}', '(': ')'}\n",
    "        for token in s:\n",
    "                if token == ']' or token == ')' or token == '}':\n",
    "                        if not stack or pair[stack[-1]] != token: # if left counterpart is on top of stack\n",
    "                                return False\n",
    "                        stack.pop()\n",
    "                else:\n",
    "                        stack.append(token)\n",
    "        return len(stack) == 0\n"
   ]
  }
 ],
 "metadata": {
  "kernelspec": {
   "display_name": "Python 3 (ipykernel)",
   "language": "python",
   "name": "python3"
  },
  "language_info": {
   "codemirror_mode": {
    "name": "ipython",
    "version": 3
   },
   "file_extension": ".py",
   "mimetype": "text/x-python",
   "name": "python",
   "nbconvert_exporter": "python",
   "pygments_lexer": "ipython3",
   "version": "3.9.6"
  }
 },
 "nbformat": 4,
 "nbformat_minor": 5
}
