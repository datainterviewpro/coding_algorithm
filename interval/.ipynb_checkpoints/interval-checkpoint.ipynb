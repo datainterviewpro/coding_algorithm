{
 "cells": [
  {
   "cell_type": "markdown",
   "id": "fe5597a1",
   "metadata": {},
   "source": [
    "## insert interval\n",
    "\n",
    "https://leetcode.com/problems/insert-interval/"
   ]
  },
  {
   "cell_type": "code",
   "execution_count": null,
   "id": "286bf37a",
   "metadata": {},
   "outputs": [],
   "source": [
    "class Solution:\n",
    "    # @param intervals: Sorted interval list.\n",
    "    # @param newInterval: new interval.\n",
    "    # @return: A new interval list.\n",
    "    def insert(self, intervals, new_interval):\n",
    "        answer = []\n",
    "\n",
    "        index = 0\n",
    "        while index < len(intervals) and intervals[index].start < new_interval.start:\n",
    "            index += 1\n",
    "            intervals.insert(index, new_interval)\n",
    "\n",
    "        last = None\n",
    "        for item in intervals:\n",
    "            if last == None or last.end < item.start:\n",
    "                answer.append(item)\n",
    "                last = item\n",
    "            else:\n",
    "                last.end = max(last.end, item.end)\n",
    "        return answer\n"
   ]
  },
  {
   "cell_type": "markdown",
   "id": "c10e687d",
   "metadata": {},
   "source": [
    "## overlapped intervals\n",
    "\n",
    "https://leetcode.com/problems/interval-list-intersections/"
   ]
  },
  {
   "cell_type": "code",
   "execution_count": null,
   "id": "febd8110",
   "metadata": {},
   "outputs": [],
   "source": [
    "def intersections(a,b):\n",
    "    ranges = []\n",
    "    i = j = 0\n",
    "    while i < len(a) and j < len(b):\n",
    "        a_left, a_right = a[i]\n",
    "        b_left, b_right = b[j]\n",
    "        \n",
    "        if a_right < b_right:\n",
    "            i += 1\n",
    "        else:\n",
    "            j += 1\n",
    "        \n",
    "        if a_right >= b_left and b_right >= a_left:\n",
    "            end_pts = sorted([a_left, a_right, b_left, b_right])\n",
    "            middle = [end_pts[1], end_pts[2]]\n",
    "            ranges.append(middle)\n",
    "\n",
    "    ri = 0\n",
    "    while ri < len(ranges)-1:\n",
    "        if ranges[ri][1] == ranges[ri+1][0]:\n",
    "            ranges[ri:ri+2] = [[ranges[ri][0], ranges[ri+1][1]]]\n",
    "        ri += 1\n",
    "    \n",
    "    return ranges\n",
    "\n",
    "a = [[0,2], [5,10], [13,23], [24,25]]\n",
    "b = [[1,5], [8,12], [15,18], [20,24]]\n",
    "print(intersects(a,b))\n",
    "# [[1, 2], [5, 5], [8, 10], [15, 18], [20, 24]]\n"
   ]
  }
 ],
 "metadata": {
  "kernelspec": {
   "display_name": "Python 3 (ipykernel)",
   "language": "python",
   "name": "python3"
  },
  "language_info": {
   "codemirror_mode": {
    "name": "ipython",
    "version": 3
   },
   "file_extension": ".py",
   "mimetype": "text/x-python",
   "name": "python",
   "nbconvert_exporter": "python",
   "pygments_lexer": "ipython3",
   "version": "3.9.6"
  }
 },
 "nbformat": 4,
 "nbformat_minor": 5
}
