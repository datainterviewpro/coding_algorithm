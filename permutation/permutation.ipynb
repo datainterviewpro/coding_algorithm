{
 "cells": [
  {
   "cell_type": "markdown",
   "id": "49aebbd0",
   "metadata": {},
   "source": [
    "## Permutation"
   ]
  },
  {
   "cell_type": "code",
   "execution_count": null,
   "id": "97df4985",
   "metadata": {},
   "outputs": [],
   "source": [
    "class Solution:\n",
    "    # used to swap nums[i] to nums[j], get permutation including both ends\n",
    "    def swapList(self, nums, i, j):\n",
    "        while i < j:\n",
    "            nums[i], nums[j] = nums[j], nums[i]\n",
    "            i += 1\n",
    "            j -= 1\n",
    "\n",
    "    def nextPermutation(self, nums):\n",
    "        n = len(nums)\n",
    "        if n <= 1:\n",
    "            return\n",
    "        \n",
    "        i = n-1\n",
    "        while i > 0 and nums[i] <= nums[i-1]:\n",
    "            i -= 1\n",
    "        \n",
    "        if i <= 0:\n",
    "            return False\n",
    "        \n",
    "        if i != 0:\n",
    "            j = n-1\n",
    "            while nums[j] <= nums[i-1]:\n",
    "                j -= 1\n",
    "            nums[j], nums[i-1] = nums[i-1], nums[j]\n",
    "        self.swapList(nums, i, n-1)\n",
    "        return True\n",
    "    \n",
    "    def permute(self, A):\n",
    "        A.sort()\n",
    "        result = []\n",
    "        \n",
    "        hasNext = True  # when hasNext is true, continue the iteration\n",
    "        while hasNext:\n",
    "            current = list(A)  # copy\n",
    "            result.append(current)\n",
    "            hasNext = self.nextPermutation(A)\n",
    "        \n",
    "        return result\n"
   ]
  },
  {
   "cell_type": "markdown",
   "id": "0ac6041b",
   "metadata": {},
   "source": [
    "## Next permutation"
   ]
  },
  {
   "cell_type": "code",
   "execution_count": null,
   "id": "f6bdf451",
   "metadata": {},
   "outputs": [],
   "source": [
    "class Solution:\n",
    "    def swapList(self, nums, i, j):\n",
    "        while i < j:\n",
    "            nums[i], nums[j] = nums[j], nums[i]\n",
    "            i += 1\n",
    "            j -= 1\n",
    "\n",
    "\"\"\"\n",
    "    @param nums: An array of integers\n",
    "    @return: nothing\n",
    "    \"\"\"\n",
    "        def nextPermutation(self, nums):\n",
    "        n = len(nums)\n",
    "        if n <= 1:\n",
    "            return\n",
    "\n",
    "i = n-1\n",
    "    while i > 0 and nums[i] <= nums[i-1]:\n",
    "        i -= 1\n",
    "        \n",
    "        if i != 0:\n",
    "            j = n-1\n",
    "            while nums[j] <= nums[i-1]:\n",
    "                j -= 1\n",
    "            nums[j], nums[i-1] = nums[i-1], nums[j]\n",
    "    self.swapList(nums, i, n-1)\n"
   ]
  },
  {
   "cell_type": "markdown",
   "id": "5fc50c95",
   "metadata": {},
   "source": [
    "## How to find the index of a permutation?"
   ]
  },
  {
   "cell_type": "code",
   "execution_count": null,
   "id": "cb09c571",
   "metadata": {},
   "outputs": [],
   "source": [
    "class Solution:\n",
    "    \"\"\"\n",
    "        @param A: An array of integers\n",
    "        @return: A long integer\n",
    "        \"\"\"\n",
    "    def permutationIndex(self, A):\n",
    "        permutation = 1\n",
    "        result = 0\n",
    "        for i in range(len(A) - 2, -1, -1):\n",
    "            smaller = 0\n",
    "            for j in range(i + 1, len(A)):\n",
    "                if A[j] < A[i]:\n",
    "                    smaller += 1\n",
    "            result += smaller * permutation\n",
    "            permutation *= len(A) - i\n",
    "        return result + 1\n"
   ]
  }
 ],
 "metadata": {
  "kernelspec": {
   "display_name": "Python 3 (ipykernel)",
   "language": "python",
   "name": "python3"
  },
  "language_info": {
   "codemirror_mode": {
    "name": "ipython",
    "version": 3
   },
   "file_extension": ".py",
   "mimetype": "text/x-python",
   "name": "python",
   "nbconvert_exporter": "python",
   "pygments_lexer": "ipython3",
   "version": "3.9.6"
  }
 },
 "nbformat": 4,
 "nbformat_minor": 5
}
