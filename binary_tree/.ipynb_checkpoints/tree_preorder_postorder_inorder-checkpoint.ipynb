{
 "cells": [
  {
   "cell_type": "markdown",
   "id": "20de65a5",
   "metadata": {},
   "source": [
    "## pre order traversal"
   ]
  },
  {
   "cell_type": "code",
   "execution_count": null,
   "id": "ded332b7",
   "metadata": {},
   "outputs": [],
   "source": [
    "class Solution:\n",
    "    \"\"\"\n",
    "        @param root: A Tree\n",
    "        @return: Preorder in ArrayList which contains node values.\n",
    "        \"\"\"\n",
    "    def preorderTraversal(self, root):\n",
    "        stack = []\n",
    "        preorder = []\n",
    "        \n",
    "        if not root:\n",
    "            return preorder\n",
    "        \n",
    "        stack.append(root)\n",
    "        while len(stack) > 0:\n",
    "            node = stack.pop()\n",
    "            preorder.append(node.val)\n",
    "            if node.right:\n",
    "                stack.append(node.right)\n",
    "            if node.left:\n",
    "                stack.append(node.left)\n",
    "        \n",
    "        return preorder\n"
   ]
  },
  {
   "cell_type": "markdown",
   "id": "96cb45da",
   "metadata": {},
   "source": [
    "### 144. Binary Tree Preorder Traversal"
   ]
  },
  {
   "cell_type": "code",
   "execution_count": null,
   "id": "a7a963fa",
   "metadata": {},
   "outputs": [],
   "source": [
    "# Definition for a binary tree node.\n",
    "# class TreeNode(object):\n",
    "#     def __init__(self, x):\n",
    "#         self.val = x\n",
    "#         self.left = None\n",
    "#         self.right = None\n",
    "\n",
    "class Solution(object):\n",
    "    def preorderTraversal(self, root):\n",
    "        \"\"\"\n",
    "        :type root: TreeNode\n",
    "        :rtype: List[int]\n",
    "        \"\"\"\n",
    "        res = []\n",
    "        temp = [root]\n",
    "        while temp:\n",
    "            node = temp.pop()\n",
    "            if node:\n",
    "                res.append(node.val)\n",
    "                temp.append(node.right)\n",
    "                temp.append(node.left)\n",
    "        return res\n",
    "        "
   ]
  },
  {
   "cell_type": "markdown",
   "id": "873f351a",
   "metadata": {},
   "source": [
    "## post order traversal"
   ]
  },
  {
   "cell_type": "code",
   "execution_count": null,
   "id": "5ac158ea",
   "metadata": {},
   "outputs": [],
   "source": [
    "class Solution:\n",
    "    \"\"\"\n",
    "        @param root: A Tree\n",
    "        @return: Postorder in ArrayList which contains node values.\n",
    "        \"\"\"\n",
    "    def postorderTraversal(self, root):\n",
    "        result = []\n",
    "        stack = []\n",
    "        prev, curr = None, root\n",
    "        \n",
    "        if not root:\n",
    "            return result\n",
    "        \n",
    "        stack.append(root)\n",
    "        while len(stack) > 0:\n",
    "            curr = stack[-1]\n",
    "            if not prev or prev.left == curr or prev.right == curr:  # traverse down the tree\n",
    "                if curr.left:\n",
    "                    stack.append(curr.left)\n",
    "                elif curr.right:\n",
    "                    stack.append(curr.right)\n",
    "            elif curr.left == prev:  # traverse up the tree from the left\n",
    "                if curr.right:\n",
    "                    stack.append(curr.right)\n",
    "            else:  # traverse up the tree from the right\n",
    "                result.append(curr.val)\n",
    "                stack.pop()\n",
    "            prev = curr\n",
    "        \n",
    "        return result"
   ]
  },
  {
   "cell_type": "markdown",
   "id": "8c5a9e14",
   "metadata": {},
   "source": [
    "### generate postorder from preorder and inorder"
   ]
  },
  {
   "cell_type": "code",
   "execution_count": null,
   "id": "c76896bd",
   "metadata": {},
   "outputs": [],
   "source": [
    "class Solution:\n",
    "    \"\"\"\n",
    "    @param inorder: A list of integers that inorder traversal of a tree\n",
    "    @param postorder: A list of integers that postorder traversal of a tree\n",
    "    @return: Root of a tree\n",
    "    \"\"\"\n",
    "    def buildTree(self, preorder, inorder):\n",
    "        # write your code here\n",
    "        if not preorder:\n",
    "            return\n",
    "        self.res = []\n",
    "        self.get_postorder(preorder, inorder, len(preorder))\n",
    "        return self.res\n",
    "\n",
    "    def get_postorder(self, preorder, inorder, n):\n",
    "        root = preorder[0]\n",
    "        idx = inorder.index(root)\n",
    "        if idx != 0 : # left tree exist\n",
    "            self.get_postorder(preorder[1:idx+1], inorder[:idx], idx)\n",
    "        if idx != n - 1: # right tree exist\n",
    "            self.get_postorder(preorder[idx+1:], inorder[idx+1:], len(inorder[idx+1:]))\n",
    "        self.res.append(root)"
   ]
  },
  {
   "cell_type": "markdown",
   "id": "53d9641b",
   "metadata": {},
   "source": [
    "## 563. Binary Tree Tilt (postorder)\n",
    "\n",
    "Given a binary tree, return the tilt of the whole tree.\n",
    "\n",
    "The tilt of a tree node is defined as the absolute difference between the sum of all left subtree node values and the sum of all right subtree node values. Null node has tilt 0."
   ]
  },
  {
   "cell_type": "code",
   "execution_count": null,
   "id": "3bfa4d53",
   "metadata": {},
   "outputs": [],
   "source": [
    "# Definition for a binary tree node.\n",
    "# class TreeNode(object):\n",
    "#     def __init__(self, x):\n",
    "#         self.val = x\n",
    "#         self.left = None\n",
    "#         self.right = None\n",
    "\n",
    "class Solution(object):\n",
    "    \n",
    "    def findTilt(self, root):\n",
    "        \"\"\"\n",
    "        :type root: TreeNode\n",
    "        :rtype: int\n",
    "        \"\"\"\n",
    "        res = [0]\n",
    "        \n",
    "        def postorder(root,res):\n",
    "            if not root: return 0\n",
    "            leftSum = postorder(root.left,res)\n",
    "            rightSum = postorder(root.right,res)\n",
    "            res[0] += abs(leftSum - rightSum)\n",
    "            return leftSum + rightSum + root.val\n",
    "        \n",
    "        postorder(root,res)\n",
    "        return res[0]\n",
    "        "
   ]
  },
  {
   "cell_type": "markdown",
   "id": "67887234",
   "metadata": {},
   "source": [
    "## in order traversal"
   ]
  },
  {
   "cell_type": "code",
   "execution_count": null,
   "id": "8fda91dd",
   "metadata": {},
   "outputs": [],
   "source": [
    "class Solution:\n",
    "    \"\"\"\n",
    "        @param root: A Tree\n",
    "        @return: Inorder in ArrayList which contains node values.\n",
    "        \"\"\"\n",
    "    def inorderTraversal(self, root):\n",
    "        stack = []\n",
    "        result = []\n",
    "        \n",
    "        while root:\n",
    "            stack.append(root)\n",
    "            root = root.left\n",
    "        \n",
    "        while len(stack) > 0:\n",
    "            node = stack[-1]\n",
    "            result.append(node.val)\n",
    "            \n",
    "            if not node.right:\n",
    "                node = stack.pop()\n",
    "                while len(stack) > 0 and stack[-1].right == node:\n",
    "                    node = stack.pop()\n",
    "            else:\n",
    "                node = node.right\n",
    "                while node:\n",
    "                    stack.append(node)\n",
    "                    node = node.left\n",
    "    \n",
    "    return result"
   ]
  },
  {
   "cell_type": "code",
   "execution_count": null,
   "id": "7a886a08",
   "metadata": {},
   "outputs": [],
   "source": [
    "# 530. Minimum Absolute Difference in BST\n",
    "# Given a binary search tree with non-negative values, find the minimum absolute difference between values of any two nodes.\n",
    "\n",
    "# Definition for a binary tree node. \n",
    "# class TreeNode(object):\n",
    "#     def __init__(self, x):\n",
    "#         self.val = x\n",
    "#         self.left = None\n",
    "#         self.right = None\n",
    "\n",
    "class Solution(object):\n",
    "    def getMinimumDifference(self, root):\n",
    "        \"\"\"\n",
    "        :type root: TreeNode\n",
    "        :rtype: int\n",
    "        \"\"\"\n",
    "        self.min = float('inf')\n",
    "        self.previous = float('inf')\n",
    "            \n",
    "        def inorder(root): # left - root - right\n",
    "            if root:\n",
    "                inorder(root.left)\n",
    "                self.min = min(self.min, abs(root.val - self.previous))\n",
    "                self.previous = root.val\n",
    "                inorder(root.right)\n",
    "        \n",
    "        inorder(root)\n",
    "        return self.min\n"
   ]
  },
  {
   "cell_type": "code",
   "execution_count": null,
   "id": "3fda677f",
   "metadata": {},
   "outputs": [],
   "source": [
    "# 538. Convert BST to Greater Tree\n",
    "class Solution(object):\n",
    "    def convertBST(self, root):\n",
    "        \"\"\"\n",
    "        :type root: TreeNode\n",
    "        :rtype: TreeNode\n",
    "        \"\"\"\n",
    "        self.sum = 0\n",
    "        self.inorder(root)\n",
    "        return root\n",
    "    \n",
    "    def inorder(self,root): # right - root - left\n",
    "        if not root:\n",
    "            return\n",
    "        self.inorder(root.right)\n",
    "        root.val += self.sum\n",
    "        self.sum = root.val\n",
    "        self.inorder(root.left)\n",
    "# Since this is a BST, we can do a reverse inorder traversal to traverse the nodes of the tree in descending order. In the process, we keep track of the running sum of all nodes which we have traversed thus far."
   ]
  }
 ],
 "metadata": {
  "kernelspec": {
   "display_name": "Python 3 (ipykernel)",
   "language": "python",
   "name": "python3"
  },
  "language_info": {
   "codemirror_mode": {
    "name": "ipython",
    "version": 3
   },
   "file_extension": ".py",
   "mimetype": "text/x-python",
   "name": "python",
   "nbconvert_exporter": "python",
   "pygments_lexer": "ipython3",
   "version": "3.9.6"
  }
 },
 "nbformat": 4,
 "nbformat_minor": 5
}
