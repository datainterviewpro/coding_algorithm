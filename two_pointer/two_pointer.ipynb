{
 "cells": [
  {
   "cell_type": "markdown",
   "id": "e879dbdc",
   "metadata": {},
   "source": [
    "## 3 pointer\n",
    "\n",
    "https://leetcode.com/problems/sort-colors/"
   ]
  },
  {
   "cell_type": "code",
   "execution_count": null,
   "id": "9d1ab80c",
   "metadata": {},
   "outputs": [],
   "source": [
    "def sortColors(a):\n",
    "    if not a:\n",
    "        return\n",
    "    \n",
    "    pl, pr = 0, len(a)-1\n",
    "    i = 0\n",
    "    while i <= pr:\n",
    "        if a[i] == 0:\n",
    "            a[pl], a[i] = a[i], a[pl]\n",
    "            pl += 1\n",
    "            i += 1\n",
    "        elif a[i] == 1:\n",
    "            i += 1\n",
    "        else:\n",
    "            a[pr], a[i] = a[i], a[pr]\n",
    "            pr -= 1\n"
   ]
  }
 ],
 "metadata": {
  "kernelspec": {
   "display_name": "Python 3 (ipykernel)",
   "language": "python",
   "name": "python3"
  },
  "language_info": {
   "codemirror_mode": {
    "name": "ipython",
    "version": 3
   },
   "file_extension": ".py",
   "mimetype": "text/x-python",
   "name": "python",
   "nbconvert_exporter": "python",
   "pygments_lexer": "ipython3",
   "version": "3.9.6"
  }
 },
 "nbformat": 4,
 "nbformat_minor": 5
}
